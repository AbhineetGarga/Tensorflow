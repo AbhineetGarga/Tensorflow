{
 "cells": [
  {
   "cell_type": "code",
   "execution_count": 1,
   "id": "e804ff64",
   "metadata": {},
   "outputs": [
    {
     "name": "stdout",
     "output_type": "stream",
     "text": [
      "WARNING:tensorflow:From C:\\Users\\abhin\\AppData\\Local\\Temp\\ipykernel_52164\\3430305354.py:3: The name tf.disable_eager_execution is deprecated. Please use tf.compat.v1.disable_eager_execution instead.\n",
      "\n"
     ]
    }
   ],
   "source": [
    "import tensorflow as tf\n",
    "\n",
    "tf.compat.v1.disable_eager_execution()  # ✅ MUST be called before defining variables\n",
    "\n"
   ]
  },
  {
   "cell_type": "code",
   "execution_count": 2,
   "id": "b34eef80",
   "metadata": {},
   "outputs": [],
   "source": [
    "# To allow compatibility with TensorFlow 1.x code, we can use the `compat.v1` module.\n",
    "# tf.compat.v1.disable_v2_behavior()\n"
   ]
  },
  {
   "cell_type": "code",
   "execution_count": 3,
   "id": "66118946",
   "metadata": {},
   "outputs": [],
   "source": [
    "# Create a variable initialized to zero\n",
    "zero = tf.Variable(0, name='zero')\n",
    "one = tf.constant(1, name='one')\n"
   ]
  },
  {
   "cell_type": "code",
   "execution_count": 4,
   "id": "31459be5",
   "metadata": {},
   "outputs": [],
   "source": [
    "# create a new variable that adds zero and one\n",
    "new_value = tf.add(zero, one, name='new_value')\n",
    "# update the new value of zero\n",
    "update = tf.compat.v1.assign(zero, new_value)"
   ]
  },
  {
   "cell_type": "code",
   "execution_count": 5,
   "id": "0af34bef",
   "metadata": {},
   "outputs": [
    {
     "data": {
      "text/plain": [
       "<tf.Variable 'AssignVariableOp_1' shape=() dtype=int32>"
      ]
     },
     "execution_count": 5,
     "metadata": {},
     "output_type": "execute_result"
    }
   ],
   "source": [
    "# assert new_value is not None, \"new_value should not be None\"\n",
    "zero.assign(new_value)"
   ]
  },
  {
   "cell_type": "code",
   "execution_count": 6,
   "id": "13be9f4a",
   "metadata": {},
   "outputs": [],
   "source": [
    "# initialize variables\n",
    "init_op = tf.compat.v1.global_variables_initializer()"
   ]
  },
  {
   "cell_type": "code",
   "execution_count": 7,
   "id": "d8137bca",
   "metadata": {},
   "outputs": [],
   "source": [
    "sess = tf.compat.v1.Session()"
   ]
  },
  {
   "cell_type": "code",
   "execution_count": 8,
   "id": "dfafbe22",
   "metadata": {},
   "outputs": [
    {
     "name": "stdout",
     "output_type": "stream",
     "text": [
      "0\n"
     ]
    }
   ],
   "source": [
    "# Creating a session to run the graph\n",
    "sess.run(init_op)\n",
    "print(sess.run(zero))  # Output: 0 (first run)\n",
    "\n"
   ]
  },
  {
   "cell_type": "code",
   "execution_count": 9,
   "id": "2f3e976d",
   "metadata": {},
   "outputs": [
    {
     "name": "stdout",
     "output_type": "stream",
     "text": [
      "1\n",
      "2\n",
      "3\n",
      "4\n",
      "5\n",
      "6\n",
      "7\n",
      "8\n",
      "9\n",
      "10\n"
     ]
    }
   ],
   "source": [
    "for _ in range(10):\n",
    "    sess.run(update)\n",
    "    print(sess.run(zero))  # Output should be 1 for each iteration  "
   ]
  },
  {
   "cell_type": "markdown",
   "id": "baf951cb",
   "metadata": {},
   "source": [
    "<h2>String operations</h2>"
   ]
  },
  {
   "cell_type": "code",
   "execution_count": 10,
   "id": "5d250b4c",
   "metadata": {},
   "outputs": [],
   "source": [
    "hello = tf.constant(b\"Hello\", name='hello')  # Use b\"Hello\" for byte string\n",
    "world = tf.constant(b\"World\", name='world')\n"
   ]
  },
  {
   "cell_type": "code",
   "execution_count": 11,
   "id": "41acebb3",
   "metadata": {},
   "outputs": [],
   "source": [
    "hello_world = tf.add(hello, world, name='hello_world')\n"
   ]
  },
  {
   "cell_type": "code",
   "execution_count": 12,
   "id": "95ccdb12",
   "metadata": {},
   "outputs": [
    {
     "name": "stdout",
     "output_type": "stream",
     "text": [
      "b'HelloWorld'\n"
     ]
    }
   ],
   "source": [
    "\n",
    "print(sess.run(hello_world))  # Output: b'HelloWorld'"
   ]
  },
  {
   "cell_type": "markdown",
   "id": "474482a1",
   "metadata": {},
   "source": [
    "<h2>Place holders</h2>"
   ]
  },
  {
   "cell_type": "code",
   "execution_count": 13,
   "id": "de6a2cd6",
   "metadata": {},
   "outputs": [],
   "source": [
    "# Scalar placeholder\n",
    "a_scalar = tf.compat.v1.placeholder(tf.float32, shape=(), name='a_scalar')\n",
    "b_scalar = a_scalar * 2"
   ]
  },
  {
   "cell_type": "code",
   "execution_count": 14,
   "id": "0b4049c8",
   "metadata": {},
   "outputs": [
    {
     "name": "stdout",
     "output_type": "stream",
     "text": [
      "Scalar result: 6.0\n"
     ]
    }
   ],
   "source": [
    "result = sess.run(b_scalar, feed_dict={a_scalar: 3.0})\n",
    "print(\"Scalar result:\", result)  # Output: 6.0"
   ]
  },
  {
   "cell_type": "code",
   "execution_count": 15,
   "id": "89020ef3",
   "metadata": {},
   "outputs": [
    {
     "name": "stdout",
     "output_type": "stream",
     "text": [
      "\n",
      "----------------------------------------\n",
      "\n"
     ]
    }
   ],
   "source": [
    "\n",
    "print(\"\\n\" + \"-\"*40 + \"\\n\")"
   ]
  },
  {
   "cell_type": "code",
   "execution_count": 16,
   "id": "45425ffa",
   "metadata": {},
   "outputs": [
    {
     "name": "stdout",
     "output_type": "stream",
     "text": [
      "1D vector result: [ 6.  8. 10.]\n"
     ]
    }
   ],
   "source": [
    "# Vector of Rank 1\n",
    "a_vector = tf.compat.v1.placeholder(tf.float32, shape=[None], name='a_vector')\n",
    "b_vector = a_vector * 2\n",
    "result = sess.run(b_vector, feed_dict={a_vector: [3, 4, 5]})\n",
    "print(\"1D vector result:\", result)  # Output: [6.0, 8.0, 10.0]"
   ]
  },
  {
   "cell_type": "code",
   "execution_count": 17,
   "id": "3a9d8bc4",
   "metadata": {},
   "outputs": [
    {
     "name": "stdout",
     "output_type": "stream",
     "text": [
      "\n",
      "----------------------------------------\n",
      "\n"
     ]
    }
   ],
   "source": [
    "print(\"\\n\" + \"-\"*40 + \"\\n\")"
   ]
  },
  {
   "cell_type": "code",
   "execution_count": 18,
   "id": "92832799",
   "metadata": {},
   "outputs": [
    {
     "name": "stdout",
     "output_type": "stream",
     "text": [
      "3D tensor result:\n",
      " [[[ 2.  4.  8.]\n",
      "  [ 6.  8. 12.]\n",
      "  [10. 12. 18.]\n",
      "  [14. 16. 20.]\n",
      "  [22. 24. 28.]\n",
      "  [26. 28. 32.]\n",
      "  [30. 32. 36.]]]\n"
     ]
    }
   ],
   "source": [
    "# Multidimensional Tensor (3D)\n",
    "a_tensor = tf.compat.v1.placeholder(tf.float32, shape=[None, 7, 3], name='a_tensor')\n",
    "b_tensor = a_tensor * 2\n",
    "input_array = [[[1, 2, 4], [3, 4, 6], [5, 6, 9],\n",
    "                [7, 8, 10], [11, 12, 14], [13, 14, 16], [15, 16, 18]]]\n",
    "result = sess.run(b_tensor, feed_dict={a_tensor: input_array})\n",
    "print(\"3D tensor result:\\n\", result)"
   ]
  },
  {
   "cell_type": "code",
   "execution_count": 19,
   "id": "28792cf4",
   "metadata": {},
   "outputs": [],
   "source": [
    "# Close the earlier session when done\n",
    "sess.close()"
   ]
  },
  {
   "cell_type": "markdown",
   "id": "7942c8c8",
   "metadata": {},
   "source": [
    "<h1>Re Creatina previous task with different approach</h1>"
   ]
  },
  {
   "cell_type": "code",
   "execution_count": 20,
   "id": "6ef6d4c3",
   "metadata": {},
   "outputs": [
    {
     "name": "stdout",
     "output_type": "stream",
     "text": [
      "Creating a variable 'zero' initialized to 0\n",
      "Creating a constant 'one' with value 1\n",
      "Creating an operation to add zero and one\n",
      "Creating an operation to assign new_value to zero\n",
      "Defining constants 'hello' and 'world'\n",
      "Creating an operation to add 'hello' and 'world'\n",
      "Creating a scalar placeholder 'a_scalar'\n",
      "Creating a 1D vector placeholder 'a_vector'\n",
      "Creating a 3D tensor placeholder 'a_tensor'\n",
      "Initializing all variables...\n",
      "\n",
      "Running zero variable increment loop\n",
      "Initial value of zero: 0\n",
      "Value of zero after update 1: 1\n",
      "Value of zero after update 2: 2\n",
      "Value of zero after update 3: 3\n",
      "Value of zero after update 4: 4\n",
      "Value of zero after update 5: 5\n",
      "Value of zero after update 6: 6\n",
      "Value of zero after update 7: 7\n",
      "Value of zero after update 8: 8\n",
      "Value of zero after update 9: 9\n",
      "Value of zero after update 10: 10\n",
      "\n",
      "----------------------------------------\n",
      "\n",
      "Running hello_world operation\n",
      "Result of hello + world: b'HelloWorld'\n",
      "\n",
      "----------------------------------------\n",
      "\n",
      "Feeding scalar value 3.0 to placeholder 'a_scalar'\n",
      "Result of a_scalar * 2: 6.0\n",
      "\n",
      "----------------------------------------\n",
      "\n",
      "Feeding vector [3, 4, 5] to placeholder 'a_vector'\n",
      "Result of a_vector * 2: [ 6.  8. 10.]\n",
      "\n",
      "----------------------------------------\n",
      "\n",
      "Feeding 3D tensor to placeholder 'a_tensor'\n",
      "Result of a_tensor * 2:\n",
      " [[[ 2.  4.  8.]\n",
      "  [ 6.  8. 12.]\n",
      "  [10. 12. 18.]\n",
      "  [14. 16. 20.]\n",
      "  [22. 24. 28.]\n",
      "  [26. 28. 32.]\n",
      "  [30. 32. 36.]]]\n"
     ]
    }
   ],
   "source": [
    "# Reopen a session to run the graph with the new operations\n",
    "with tf.compat.v1.Session() as sess:\n",
    "    print(\"Creating a variable 'zero' initialized to 0\")\n",
    "    zero = tf.Variable(0, name='zero')\n",
    "    \n",
    "    print(\"Creating a constant 'one' with value 1\")\n",
    "    one = tf.constant(1, name='one')\n",
    "    \n",
    "    print(\"Creating an operation to add zero and one\")\n",
    "    new_value = tf.add(zero, one, name='new_value')\n",
    "    \n",
    "    print(\"Creating an operation to assign new_value to zero\")\n",
    "    update = tf.compat.v1.assign(zero, new_value)\n",
    "    \n",
    "    print(\"Defining constants 'hello' and 'world'\")\n",
    "    hello = tf.constant(b\"Hello\", name='hello')\n",
    "    world = tf.constant(b\"World\", name='world')\n",
    "    \n",
    "    print(\"Creating an operation to add 'hello' and 'world'\")\n",
    "    hello_world = tf.add(hello, world, name='hello_world')\n",
    "    \n",
    "    print(\"Creating a scalar placeholder 'a_scalar'\")\n",
    "    a_scalar = tf.compat.v1.placeholder(tf.float32, shape=(), name='a_scalar')\n",
    "    b_scalar = a_scalar * 2\n",
    "\n",
    "    print(\"Creating a 1D vector placeholder 'a_vector'\")\n",
    "    a_vector = tf.compat.v1.placeholder(tf.float32, shape=[None], name='a_vector')\n",
    "    b_vector = a_vector * 2\n",
    "\n",
    "    print(\"Creating a 3D tensor placeholder 'a_tensor'\")\n",
    "    a_tensor = tf.compat.v1.placeholder(tf.float32, shape=[None, 7, 3], name='a_tensor')\n",
    "    b_tensor = a_tensor * 2\n",
    "\n",
    "    print(\"Initializing all variables...\")\n",
    "    sess.run(tf.compat.v1.global_variables_initializer())\n",
    "\n",
    "    print(\"\\nRunning zero variable increment loop\")\n",
    "    print(\"Initial value of zero:\", sess.run(zero))\n",
    "    for i in range(10):\n",
    "        sess.run(update)\n",
    "        print(f\"Value of zero after update {i + 1}:\", sess.run(zero))\n",
    "\n",
    "    print(\"\\n\" + \"-\"*40 + \"\\n\")\n",
    "\n",
    "    print(\"Running hello_world operation\")\n",
    "    result = sess.run(hello_world)\n",
    "    print(\"Result of hello + world:\", result)\n",
    "\n",
    "    print(\"\\n\" + \"-\"*40 + \"\\n\")\n",
    "\n",
    "    print(\"Feeding scalar value 3.0 to placeholder 'a_scalar'\")\n",
    "    result = sess.run(b_scalar, feed_dict={a_scalar: 3.0})\n",
    "    print(\"Result of a_scalar * 2:\", result)\n",
    "\n",
    "    print(\"\\n\" + \"-\"*40 + \"\\n\")\n",
    "\n",
    "    print(\"Feeding vector [3, 4, 5] to placeholder 'a_vector'\")\n",
    "    result = sess.run(b_vector, feed_dict={a_vector: [3, 4, 5]})\n",
    "    print(\"Result of a_vector * 2:\", result)\n",
    "\n",
    "    print(\"\\n\" + \"-\"*40 + \"\\n\")\n",
    "\n",
    "    print(\"Feeding 3D tensor to placeholder 'a_tensor'\")\n",
    "    input_array = [[[1, 2, 4], [3, 4, 6], [5, 6, 9],\n",
    "                    [7, 8, 10], [11, 12, 14], [13, 14, 16], [15, 16, 18]]]\n",
    "    result = sess.run(b_tensor, feed_dict={a_tensor: input_array})\n",
    "    print(\"Result of a_tensor * 2:\\n\", result)\n"
   ]
  },
  {
   "cell_type": "code",
   "execution_count": null,
   "id": "3e3f89aa",
   "metadata": {},
   "outputs": [],
   "source": []
  }
 ],
 "metadata": {
  "kernelspec": {
   "display_name": "tf-env",
   "language": "python",
   "name": "python3"
  },
  "language_info": {
   "codemirror_mode": {
    "name": "ipython",
    "version": 3
   },
   "file_extension": ".py",
   "mimetype": "text/x-python",
   "name": "python",
   "nbconvert_exporter": "python",
   "pygments_lexer": "ipython3",
   "version": "3.11.0"
  }
 },
 "nbformat": 4,
 "nbformat_minor": 5
}
