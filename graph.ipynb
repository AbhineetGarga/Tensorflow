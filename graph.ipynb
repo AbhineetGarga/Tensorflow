{
 "cells": [
  {
   "cell_type": "code",
   "execution_count": 1,
   "id": "570dd4be",
   "metadata": {},
   "outputs": [
    {
     "name": "stdout",
     "output_type": "stream",
     "text": [
      "WARNING:tensorflow:From C:\\Users\\abhin\\AppData\\Local\\Temp\\ipykernel_43336\\4069725824.py:3: The name tf.disable_v2_behavior is deprecated. Please use tf.compat.v1.disable_v2_behavior instead.\n",
      "\n",
      "WARNING:tensorflow:From a:\\Coding\\Py\\Tensorflow\\tf-env\\Lib\\site-packages\\tensorflow\\python\\compat\\v2_compat.py:98: disable_resource_variables (from tensorflow.python.ops.resource_variables_toggle) is deprecated and will be removed in a future version.\n",
      "Instructions for updating:\n",
      "non-resource variables are not supported in the long term\n"
     ]
    }
   ],
   "source": [
    "\n",
    "import tensorflow.compat.v1 as tf\n",
    "# disable eager execution for TensorFlow 1.x compatibility \n",
    "tf.disable_v2_behavior()\n"
   ]
  },
  {
   "cell_type": "code",
   "execution_count": 2,
   "id": "c13ad221",
   "metadata": {},
   "outputs": [
    {
     "name": "stdout",
     "output_type": "stream",
     "text": [
      "<tensorflow.python.framework.ops.Graph object at 0x0000019CB63B93C0>\n"
     ]
    }
   ],
   "source": [
    "graph = tf.get_default_graph()\n",
    "print(graph)\n"
   ]
  },
  {
   "cell_type": "code",
   "execution_count": 3,
   "id": "c01f6108",
   "metadata": {},
   "outputs": [
    {
     "data": {
      "text/plain": [
       "[]"
      ]
     },
     "execution_count": 3,
     "metadata": {},
     "output_type": "execute_result"
    }
   ],
   "source": [
    "graph.get_operations()  # List all operations in the graph"
   ]
  },
  {
   "cell_type": "code",
   "execution_count": 4,
   "id": "f6c5357a",
   "metadata": {},
   "outputs": [],
   "source": [
    "a= tf.constant(10, name='a')"
   ]
  },
  {
   "cell_type": "code",
   "execution_count": 5,
   "id": "96dbf34b",
   "metadata": {},
   "outputs": [
    {
     "data": {
      "text/plain": [
       "[<tf.Operation 'a' type=Const>]"
      ]
     },
     "execution_count": 5,
     "metadata": {},
     "output_type": "execute_result"
    }
   ],
   "source": [
    "# operations= graph.get_operations()\n",
    "# for op in operations:\n",
    "#     print(op.name, op.type)\n",
    "operations= graph.get_operations()\n",
    "operations"
   ]
  },
  {
   "cell_type": "code",
   "execution_count": 6,
   "id": "847da6d9",
   "metadata": {},
   "outputs": [],
   "source": [
    "b= tf.constant(10, name='a')"
   ]
  },
  {
   "cell_type": "code",
   "execution_count": 7,
   "id": "55f2f5a7",
   "metadata": {},
   "outputs": [
    {
     "data": {
      "text/plain": [
       "[<tf.Operation 'a' type=Const>, <tf.Operation 'a_1' type=Const>]"
      ]
     },
     "execution_count": 7,
     "metadata": {},
     "output_type": "execute_result"
    }
   ],
   "source": [
    "operations= graph.get_operations()\n",
    "operations"
   ]
  },
  {
   "cell_type": "code",
   "execution_count": 8,
   "id": "5d130c41",
   "metadata": {},
   "outputs": [],
   "source": [
    "c= tf.add(a, b, name='c')"
   ]
  },
  {
   "cell_type": "code",
   "execution_count": 9,
   "id": "059291cb",
   "metadata": {},
   "outputs": [],
   "source": [
    "# c"
   ]
  },
  {
   "cell_type": "code",
   "execution_count": 10,
   "id": "15407600",
   "metadata": {},
   "outputs": [],
   "source": [
    "d= tf.multiply(a, b, name='d')\n",
    "# d"
   ]
  },
  {
   "cell_type": "code",
   "execution_count": 11,
   "id": "81f0c7b5",
   "metadata": {},
   "outputs": [
    {
     "name": "stdout",
     "output_type": "stream",
     "text": [
      "The Constant is a And the type is Const.\n",
      "The Constant is a_1 And the type is Const.\n",
      "The Constant is c And the type is AddV2.\n",
      "The Constant is d And the type is Mul.\n"
     ]
    }
   ],
   "source": [
    "operations= graph.get_operations()\n",
    "for op in operations:\n",
    "    print(f\"The Constant is {op.name} And the type is {op.type}.\")"
   ]
  },
  {
   "cell_type": "code",
   "execution_count": 12,
   "id": "d9357693",
   "metadata": {},
   "outputs": [
    {
     "data": {
      "text/plain": [
       "<tf.Tensor 'e:0' shape=() dtype=int32>"
      ]
     },
     "execution_count": 12,
     "metadata": {},
     "output_type": "execute_result"
    }
   ],
   "source": [
    "e= tf.multiply(c, d, name='e')\n",
    "e"
   ]
  },
  {
   "cell_type": "code",
   "execution_count": 13,
   "id": "dbf4f04b",
   "metadata": {},
   "outputs": [],
   "source": [
    "sess= tf.Session()\n",
    "sess.run(tf.global_variables_initializer())\n"
   ]
  },
  {
   "cell_type": "code",
   "execution_count": 14,
   "id": "7b5fdcca",
   "metadata": {},
   "outputs": [
    {
     "name": "stdout",
     "output_type": "stream",
     "text": [
      "Result of e: 2000\n"
     ]
    }
   ],
   "source": [
    "result= sess.run(e)\n",
    "print(\"Result of e:\", result)"
   ]
  },
  {
   "cell_type": "code",
   "execution_count": 15,
   "id": "663950be",
   "metadata": {},
   "outputs": [
    {
     "name": "stdout",
     "output_type": "stream",
     "text": [
      "Result of e: 100\n"
     ]
    }
   ],
   "source": [
    "result= sess.run(d)\n",
    "print(\"Result of e:\", result)"
   ]
  },
  {
   "cell_type": "code",
   "execution_count": 16,
   "id": "ca79e9e2",
   "metadata": {},
   "outputs": [
    {
     "name": "stdout",
     "output_type": "stream",
     "text": [
      "Result of e: 20\n"
     ]
    }
   ],
   "source": [
    "result= sess.run(c)\n",
    "print(\"Result of e:\", result)"
   ]
  },
  {
   "cell_type": "code",
   "execution_count": 17,
   "id": "6ad6dc17",
   "metadata": {},
   "outputs": [
    {
     "name": "stdout",
     "output_type": "stream",
     "text": [
      "a\n",
      "a_1\n",
      "c\n",
      "d\n"
     ]
    }
   ],
   "source": [
    "for op in operations:\n",
    "    print(op.name)"
   ]
  },
  {
   "cell_type": "code",
   "execution_count": 18,
   "id": "f0580a23",
   "metadata": {},
   "outputs": [],
   "source": [
    "sess.close()  # Close the session to free resources"
   ]
  },
  {
   "cell_type": "code",
   "execution_count": null,
   "id": "75aa3693",
   "metadata": {},
   "outputs": [],
   "source": []
  }
 ],
 "metadata": {
  "kernelspec": {
   "display_name": "tf-env",
   "language": "python",
   "name": "python3"
  },
  "language_info": {
   "codemirror_mode": {
    "name": "ipython",
    "version": 3
   },
   "file_extension": ".py",
   "mimetype": "text/x-python",
   "name": "python",
   "nbconvert_exporter": "python",
   "pygments_lexer": "ipython3",
   "version": "3.11.0"
  }
 },
 "nbformat": 4,
 "nbformat_minor": 5
}
